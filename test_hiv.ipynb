{
 "cells": [
  {
   "cell_type": "code",
   "execution_count": null,
   "metadata": {
    "collapsed": false
   },
   "outputs": [],
   "source": [
    "import xml.etree.ElementTree as ET\n",
    "import re\n",
    "import numpy as np\n",
    "tree = ET.parse('test_hiv/test6.x3d')\n",
    "root = tree.getroot()"
   ]
  },
  {
   "cell_type": "code",
   "execution_count": null,
   "metadata": {
    "collapsed": false
   },
   "outputs": [],
   "source": [
    "transforms = root.find('Scene').find('Group').getchildren()"
   ]
  },
  {
   "cell_type": "code",
   "execution_count": null,
   "metadata": {
    "collapsed": false
   },
   "outputs": [],
   "source": [
    "pdb_pat = re.compile('\\d...')\n",
    "\n",
    "for transform in transforms:\n",
    "    MetadataString  = transform.find('MetadataString')\n",
    "    if MetadataString == None:\n",
    "        continue\n",
    "    #print(transform.attrib['translation'])\n",
    "    if not MetadataString == None:\n",
    "        MetadataString = MetadataString.attrib['value'].split('_')\n",
    "        name = MetadataString[1]\n",
    "        match = pdb_pat.match(MetadataString[2])\n",
    "        if match:\n",
    "            pdb = match.group(0)\n",
    "        else:\n",
    "            pdb = None\n",
    "#        print(name,pdb,MetadataString)\n",
    "        shapes = transform.findall('Shape')\n",
    "        for shape in shapes:\n",
    "            points = np.array(shape.find('IndexedTriangleSet').find('Coordinate').attrib['point'].split())\n",
    "            points = points.reshape((-1,3))\n",
    "            print(points)\n",
    "        break"
   ]
  },
  {
   "cell_type": "code",
   "execution_count": null,
   "metadata": {
    "collapsed": true
   },
   "outputs": [],
   "source": [
    "shape = root.find('Scene').find('Group')[1].findall('Shape')[0]\n",
    "shape.find('IndexedLineSet').getchildren()[0].attrib"
   ]
  }
 ],
 "metadata": {
  "kernelspec": {
   "display_name": "Python 3",
   "language": "python",
   "name": "python3"
  },
  "language_info": {
   "codemirror_mode": {
    "name": "ipython",
    "version": 3
   },
   "file_extension": ".py",
   "mimetype": "text/x-python",
   "name": "python",
   "nbconvert_exporter": "python",
   "pygments_lexer": "ipython3",
   "version": "3.4.3"
  }
 },
 "nbformat": 4,
 "nbformat_minor": 0
}
